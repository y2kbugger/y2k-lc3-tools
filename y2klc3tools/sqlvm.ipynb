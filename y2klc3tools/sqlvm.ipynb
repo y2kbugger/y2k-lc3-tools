{
 "cells": [
  {
   "cell_type": "code",
   "execution_count": null,
   "metadata": {},
   "outputs": [],
   "source": [
    "%load_ext autoreload\n",
    "%autoreload 2"
   ]
  },
  {
   "cell_type": "code",
   "execution_count": null,
   "metadata": {},
   "outputs": [],
   "source": [
    "from IPython.core.magic import register_cell_magic\n",
    "\n",
    "from y2klc3tools import PC_START, UINT16_MAX\n",
    "from y2klc3tools.sqlvm import SqlVM"
   ]
  },
  {
   "cell_type": "code",
   "execution_count": null,
   "metadata": {},
   "outputs": [],
   "source": [
    "vm = SqlVM()\n",
    "\n",
    "\n",
    "@register_cell_magic\n",
    "def sql(_line: str, cell: str) -> None:\n",
    "    vm.run_and_trace(cell)"
   ]
  },
  {
   "cell_type": "code",
   "execution_count": null,
   "metadata": {},
   "outputs": [],
   "source": [
    "vm.mem.load_binary_from_file(\"../obj/vm/2048.obj\")"
   ]
  },
  {
   "cell_type": "code",
   "execution_count": null,
   "metadata": {},
   "outputs": [],
   "source": [
    "from y2klc3tools.asm import assemble\n",
    "\n",
    "code = \"\"\"\n",
    ".ORIG x3000\n",
    "LEA R0, HELLO_WORLD\n",
    "PUTS\n",
    "HALT\n",
    "HELLO_WORLD .stringz \"Hello, World\"\n",
    ".END\n",
    "\"\"\"\n",
    "\n",
    "sym, image = assemble(code)\n",
    "print(image)\n",
    "vm.mem.load_binary_from_bytes(image)\n",
    "vm.reset()"
   ]
  },
  {
   "cell_type": "code",
   "execution_count": null,
   "metadata": {
    "vscode": {
     "languageId": "sql"
    }
   },
   "outputs": [],
   "source": [
    "vm.step()\n",
    "vm.run_and_trace(\"\"\"\n",
    "    SELECT * FROM signal;\n",
    "    SELECT * FROM register;\n",
    "    SELECT * FROM memory\n",
    "        WHERE address >= 0x3000 and address < 0x3040;\n",
    "    \"\"\")"
   ]
  },
  {
   "cell_type": "code",
   "execution_count": null,
   "metadata": {
    "vscode": {
     "languageId": "sql"
    }
   },
   "outputs": [],
   "source": [
    "%%sql\n",
    "SELECT * FROM signal;\n",
    "SELECT * FROM register;\n",
    "SELECT * FROM memory\n",
    "    WHERE address >= 0x3000 and address < 0x3040;"
   ]
  },
  {
   "cell_type": "code",
   "execution_count": null,
   "metadata": {},
   "outputs": [],
   "source": [
    "origin = '0000'\n",
    "image_bytes = origin + '16BF' * (UINT16_MAX)\n",
    "\n",
    "vm.reset()\n",
    "vm.mem.load_binary_from_hex(image_bytes)\n",
    "\n",
    "vm.mem[PC_START + 0x10] = 0xF025  # HLT"
   ]
  },
  {
   "cell_type": "code",
   "execution_count": null,
   "metadata": {},
   "outputs": [],
   "source": [
    "vm.step()\n",
    "vm.run_and_trace(\n",
    "    \"\"\"\n",
    "    SELECT * FROM signal;\n",
    "    SELECT * FROM register;\n",
    "    SELECT * FROM memory\n",
    "        WHERE address >= 0x3000 and address < 0x3040;\n",
    "    \"\"\"\n",
    ")"
   ]
  },
  {
   "cell_type": "code",
   "execution_count": null,
   "metadata": {},
   "outputs": [],
   "source": [
    "import ipywidgets as widgets\n",
    "from IPython.display import display\n",
    "\n",
    "\n",
    "class MyCat:\n",
    "    def __init__(self, name: str):\n",
    "        self.name = name\n",
    "        self.widget = widgets.HTML()\n",
    "\n",
    "    def update_name(self, name: str) -> None:\n",
    "        self.name = name\n",
    "        self._ipython_display_update()\n",
    "\n",
    "    def _ipython_display_update(self):\n",
    "        self.widget.value = f\"<h1>{self.name}</h1>\"\n",
    "\n",
    "    def _ipython_display_(self):\n",
    "        self._ipython_display_update()\n",
    "        display(self.widget)"
   ]
  },
  {
   "cell_type": "code",
   "execution_count": null,
   "metadata": {},
   "outputs": [],
   "source": [
    "kitt = MyCat(\"Fluffy\")"
   ]
  },
  {
   "cell_type": "code",
   "execution_count": null,
   "metadata": {},
   "outputs": [],
   "source": [
    "kitt"
   ]
  },
  {
   "cell_type": "code",
   "execution_count": null,
   "metadata": {},
   "outputs": [],
   "source": [
    "kitt.update_name(\"Whiskers\")"
   ]
  },
  {
   "cell_type": "code",
   "execution_count": null,
   "metadata": {},
   "outputs": [],
   "source": []
  }
 ],
 "metadata": {
  "kernelspec": {
   "display_name": ".venv",
   "language": "python",
   "name": "python3"
  },
  "language_info": {
   "codemirror_mode": {
    "name": "ipython",
    "version": 3
   },
   "file_extension": ".py",
   "mimetype": "text/x-python",
   "name": "python",
   "nbconvert_exporter": "python",
   "pygments_lexer": "ipython3",
   "version": "3.12.3"
  }
 },
 "nbformat": 4,
 "nbformat_minor": 2
}
