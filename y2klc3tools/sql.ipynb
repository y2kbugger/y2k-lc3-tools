{
 "cells": [
  {
   "cell_type": "code",
   "execution_count": null,
   "metadata": {},
   "outputs": [],
   "source": [
    "import sqlite3\n",
    "\n",
    "from IPython.core.magic import register_cell_magic\n",
    "\n",
    "from tabulate import tabulate\n",
    "import sqlparse\n",
    "\n",
    "conn = sqlite3.connect(':memory:')\n",
    "cursor = conn.cursor()\n",
    "\n",
    "\n",
    "def run_and_print(sql):\n",
    "    try:\n",
    "        cursor.execute(sql)\n",
    "    except sqlite3.OperationalError as e:\n",
    "        print(\"Error:\\n\", sql)\n",
    "        raise e\n",
    "\n",
    "    conn.commit()\n",
    "\n",
    "    rows = cursor.fetchall()\n",
    "    if cursor.description is None:\n",
    "        return\n",
    "\n",
    "    print(tabulate(rows, headers=[d[0] for d in cursor.description]), end='\\n\\n')\n",
    "\n",
    "\n",
    "@register_cell_magic\n",
    "def sql(_, cell):\n",
    "    run_and_print(\"DROP TABLE IF EXISTS trace\")\n",
    "    run_and_print(\"CREATE TABLE trace(trace TEXT)\")\n",
    "    for sql in sqlparse.split(cell):\n",
    "        run_and_print(sql)\n",
    "    run_and_print(\"SELECT * FROM trace\")"
   ]
  },
  {
   "cell_type": "code",
   "execution_count": null,
   "metadata": {
    "vscode": {
     "languageId": "sql"
    }
   },
   "outputs": [],
   "source": [
    "%%sql\n",
    "\n",
    "INSERT INTO trace VALUES ('Reticulating splines...');\n",
    "\n",
    "CREATE TABLE signal(\n",
    "    clk BOOLEAN,\n",
    "    instr INT\n",
    "    );\n",
    "INSERT INTO signal VALUES (\n",
    "    FALSE,\n",
    "    0\n",
    "    );\n",
    "\n",
    "CREATE TABLE register(\n",
    "    R0 INT,\n",
    "    R1 INT,\n",
    "    R2 INT,\n",
    "    R3 INT,\n",
    "    R4 INT,\n",
    "    R5 INT,\n",
    "    R6 INT,\n",
    "    R7 INT,\n",
    "    PC INT,\n",
    "    COND INT\n",
    "    );\n",
    "INSERT INTO register VALUES (\n",
    "    0, 0, 0, 0, 0, 0, 0, 0, 0, 0\n",
    "    );\n",
    "\n",
    "CREATE TABLE memory(\n",
    "    address INT,\n",
    "    value INT\n",
    "    );\n",
    "\n",
    "pragma recursive_triggers = 1;\n"
   ]
  },
  {
   "cell_type": "code",
   "execution_count": null,
   "metadata": {
    "vscode": {
     "languageId": "sql"
    }
   },
   "outputs": [],
   "source": [
    "%%sql\n",
    "\n",
    "DROP TRIGGER IF EXISTS clk_trigger_rising;\n",
    "CREATE TRIGGER clk_trigger_rising\n",
    "AFTER UPDATE OF clk ON signal\n",
    "    WHEN OLD.clk = 0 AND NEW.clk = 1\n",
    "BEGIN\n",
    "    -- Insert into trace table based on clk edge detection\n",
    "    INSERT INTO trace VALUES ('clk rising edge');\n",
    "END;\n",
    "\n",
    "DROP TRIGGER IF EXISTS clk_trigger_falling;\n",
    "CREATE TRIGGER clk_trigger_falling\n",
    "AFTER UPDATE OF clk ON signal\n",
    "    WHEN OLD.clk = 1 AND NEW.clk = 0\n",
    "BEGIN\n",
    "    -- Insert into trace table based on clk edge detection\n",
    "    INSERT INTO trace VALUES ('clk falling edge');\n",
    "\n",
    "    -- Read instruction from memory based on PC\n",
    "    -- There are two bytes the High and Low. We are Big Endian.\n",
    "    INSERT INTO trace VALUES ('reading instruction from memory...');\n",
    "    UPDATE signal\n",
    "        SET instr = (\n",
    "            (SELECT value FROM memory WHERE address = (SELECT PC FROM register)) << 8 |\n",
    "            (SELECT value FROM memory WHERE address = (SELECT PC FROM register) + 1)\n",
    "        );\n",
    "\n",
    "    -- Update PC in register table based on falling edge detection\n",
    "    INSERT INTO trace VALUES ('incrementing PC...');\n",
    "    UPDATE register\n",
    "        SET PC = PC + 2;\n",
    "END;\n",
    "\n",
    "DROP TRIGGER IF EXISTS instr_trigger;\n",
    "CREATE TRIGGER instr_trigger\n",
    "AFTER UPDATE OF instr ON signal\n",
    "BEGIN\n",
    "    -- Insert into trace table based on instruction update\n",
    "    INSERT INTO trace VALUES ('instruction updated');\n",
    "END;\n",
    "\n",
    "DROP TRIGGER IF EXISTS instr_hlt_trigger;\n",
    "CREATE TRIGGER instr_hlt_trigger\n",
    "AFTER UPDATE OF instr ON signal\n",
    "    WHEN NEW.instr = 0xF025\n",
    "BEGIN\n",
    "    -- Insert into trace table based on instruction update\n",
    "    INSERT INTO trace VALUES ('HLT instruction detected');\n",
    "END;"
   ]
  },
  {
   "cell_type": "code",
   "execution_count": null,
   "metadata": {
    "vscode": {
     "languageId": "sql"
    }
   },
   "outputs": [],
   "source": [
    "%%sql\n",
    "\n",
    "insert into memory values (0x3200, 0xF0);\n",
    "insert into memory values (0x3201, 0x25);\n",
    "update register set PC = 0x31FA;"
   ]
  },
  {
   "cell_type": "code",
   "execution_count": null,
   "metadata": {
    "vscode": {
     "languageId": "sql"
    }
   },
   "outputs": [],
   "source": [
    "%%sql\n",
    "-- drive the clock signal\n",
    "UPDATE signal SET clk = 1;\n",
    "UPDATE signal SET clk = 0;\n",
    "\n",
    "select * from register;\n",
    "select * from signal;"
   ]
  },
  {
   "cell_type": "code",
   "execution_count": null,
   "metadata": {
    "vscode": {
     "languageId": "sql"
    }
   },
   "outputs": [],
   "source": []
  },
  {
   "cell_type": "code",
   "execution_count": null,
   "metadata": {
    "vscode": {
     "languageId": "sql"
    }
   },
   "outputs": [],
   "source": []
  }
 ],
 "metadata": {
  "kernelspec": {
   "display_name": ".venv",
   "language": "python",
   "name": "python3"
  },
  "language_info": {
   "codemirror_mode": {
    "name": "ipython",
    "version": 3
   },
   "file_extension": ".py",
   "mimetype": "text/x-python",
   "name": "python",
   "nbconvert_exporter": "python",
   "pygments_lexer": "ipython3",
   "version": "3.12.3"
  }
 },
 "nbformat": 4,
 "nbformat_minor": 2
}
