{
 "cells": [
  {
   "cell_type": "code",
   "execution_count": 1,
   "metadata": {},
   "outputs": [],
   "source": [
    "import sqlite3\n",
    "\n",
    "from IPython.core.magic import register_cell_magic\n",
    "\n",
    "from tabulate import tabulate\n",
    "import sqlparse\n",
    "\n",
    "conn = sqlite3.connect(':memory:')\n",
    "cursor = conn.cursor()\n",
    "\n",
    "def run_and_print(sql):\n",
    "    try:\n",
    "        cursor.execute(sql)\n",
    "    except sqlite3.OperationalError as e:\n",
    "        print(sql)\n",
    "        raise e\n",
    "\n",
    "    conn.commit()\n",
    "\n",
    "    rows = cursor.fetchall()\n",
    "    if cursor.description is None:\n",
    "        return\n",
    "\n",
    "    print(tabulate(rows, headers=[d[0] for d in cursor.description]), end='\\n\\n')\n",
    "\n",
    "@register_cell_magic\n",
    "def sql(_, cell):\n",
    "    for sql in sqlparse.split(cell):\n",
    "        run_and_print(sql)"
   ]
  },
  {
   "cell_type": "code",
   "execution_count": 2,
   "metadata": {
    "vscode": {
     "languageId": "sql"
    }
   },
   "outputs": [],
   "source": [
    "%%sql\n",
    "\n",
    "CREATE TABLE trace(trace TEXT);\n",
    "INSERT INTO trace VALUES ('Reticulating splines...');\n",
    "\n",
    "CREATE TABLE pc_table(pc INTEGER);\n",
    "INSERT INTO pc_table VALUES (0);\n",
    "INSERT INTO trace VALUES ('pc_table CREATEd');\n",
    "\n",
    "CREATE TABLE clk_table(clk BOOLEAN);\n",
    "INSERT INTO clk_table VALUES (0);\n",
    "INSERT INTO trace VALUES ('clk_table CREATEd');\n",
    "\n",
    "pragma recursive_triggers = 1;\n"
   ]
  },
  {
   "cell_type": "code",
   "execution_count": 3,
   "metadata": {
    "vscode": {
     "languageId": "sql"
    }
   },
   "outputs": [],
   "source": [
    "%%sql\n",
    "-- create a trigger that increments the value of pc by 1, up to a maximum of 5, whenever the value of pc is updated\n",
    "\n",
    "DROP TRIGGER IF EXISTS clk_trigger;\n",
    "CREATE TRIGGER clk_trigger\n",
    "AFTER UPDATE OF clk ON clk_table\n",
    "BEGIN\n",
    "    INSERT INTO trace VALUES (\n",
    "        CASE\n",
    "            WHEN OLD.clk = 0 AND NEW.clk = 1 THEN 'rising edge'\n",
    "            WHEN OLD.clk = 1 AND NEW.clk = 0 THEN 'falling edge'\n",
    "            ELSE 'no edge detected'  -- Optional, for other cases\n",
    "        END\n",
    "    );\n",
    "END;"
   ]
  },
  {
   "cell_type": "code",
   "execution_count": 4,
   "metadata": {
    "vscode": {
     "languageId": "sql"
    }
   },
   "outputs": [],
   "source": [
    "%%sql\n",
    "DELETE FROM trace;"
   ]
  },
  {
   "cell_type": "code",
   "execution_count": 5,
   "metadata": {
    "vscode": {
     "languageId": "sql"
    }
   },
   "outputs": [],
   "source": [
    "%%sql\n",
    "-- drive the clock signal\n",
    "UPDATE clk_table SET clk = 1;\n",
    "UPDATE clk_table SET clk = 0;\n",
    "UPDATE clk_table SET clk = 1;\n",
    "UPDATE clk_table SET clk = 0;"
   ]
  },
  {
   "cell_type": "code",
   "execution_count": 6,
   "metadata": {
    "vscode": {
     "languageId": "sql"
    }
   },
   "outputs": [
    {
     "name": "stdout",
     "output_type": "stream",
     "text": [
      "trace\n",
      "------------\n",
      "rising edge\n",
      "falling edge\n",
      "rising edge\n",
      "falling edge\n",
      "\n"
     ]
    }
   ],
   "source": [
    "%%sql\n",
    "-- retrieve and print the logs\n",
    "SELECT * FROM trace;"
   ]
  }
 ],
 "metadata": {
  "kernelspec": {
   "display_name": ".venv",
   "language": "python",
   "name": "python3"
  },
  "language_info": {
   "codemirror_mode": {
    "name": "ipython",
    "version": 3
   },
   "file_extension": ".py",
   "mimetype": "text/x-python",
   "name": "python",
   "nbconvert_exporter": "python",
   "pygments_lexer": "ipython3",
   "version": "3.11.6"
  }
 },
 "nbformat": 4,
 "nbformat_minor": 2
}
