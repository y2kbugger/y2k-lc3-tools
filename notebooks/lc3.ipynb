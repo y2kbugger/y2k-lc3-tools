{
 "cells": [
  {
   "cell_type": "code",
   "execution_count": 1,
   "metadata": {},
   "outputs": [],
   "source": [
    "from y2klc3tools.vm import VM"
   ]
  },
  {
   "cell_type": "code",
   "execution_count": 2,
   "metadata": {},
   "outputs": [
    {
     "name": "stdout",
     "output_type": "stream",
     "text": [
      "-- RESET --\n",
      "Hello, World!\n",
      "Hello, World!\n",
      "Hello, World!\n",
      "Hello, World!\n",
      "Hello, World!\n",
      "-- HALT --\n"
     ]
    }
   ],
   "source": [
    "vm = VM()\n",
    "vm.load_binary_from_file(\"../obj/vm/hello2.obj\")\n",
    "vm.reset()\n",
    "vm.continue_()"
   ]
  },
  {
   "cell_type": "code",
   "execution_count": 3,
   "metadata": {},
   "outputs": [
    {
     "name": "stdout",
     "output_type": "stream",
     "text": [
      "-- RESET --\n"
     ]
    }
   ],
   "source": [
    "vm.reset()"
   ]
  },
  {
   "cell_type": "code",
   "execution_count": 4,
   "metadata": {},
   "outputs": [],
   "source": [
    "vm.step()"
   ]
  },
  {
   "cell_type": "code",
   "execution_count": 5,
   "metadata": {},
   "outputs": [
    {
     "name": "stdout",
     "output_type": "stream",
     "text": [
      "STARTING PASS 1\n",
      "   0x0 (2): .ORIG x3000                                  | [Tok(t='dot', v='.ORIG'), Tok(t='const', v=12288)]\n",
      "0x3000 (3): LEA R0, HELLO_WORLD                          | [Tok(t='op', v='LEA'), Tok(t='reg', v='R0'), Tok(t='label', v='HELLO_WORLD')]\n",
      "0x3001 (4): PUTS                                         | [Tok(t='op', v='PUTS')]\n",
      "0x3002 (5): HALT                                         | [Tok(t='op', v='HALT')]\n",
      "0x3003 (6): HELLO_WORLD .stringz \"Hello, World\"          | [Tok(t='label', v='HELLO_WORLD'), Tok(t='dot', v='.STRINGZ'), Tok(t='str', v='Hello, World')]\n",
      "LC: 0x3010\n",
      "STARTING PASS 2\n",
      "[Tok(t='op', v='LEA'), Tok(t='reg', v='R0'), Tok(t='label', v='HELLO_WORLD')]\n",
      "[Tok(t='op', v='PUTS')]\n",
      "[Tok(t='op', v='HALT')]\n",
      "[Tok(t='label', v='HELLO_WORLD'), Tok(t='dot', v='.STRINGZ'), Tok(t='str', v='Hello, World')]\n",
      "-- RESET --\n",
      "Hello, World-- HALT --\n"
     ]
    }
   ],
   "source": [
    "code = \"\"\"\n",
    ".ORIG x3000\n",
    "LEA R0, HELLO_WORLD\n",
    "PUTS\n",
    "HALT\n",
    "HELLO_WORLD .stringz \"Hello, World\"\n",
    ".END\n",
    "\"\"\"\n",
    "\n",
    "from y2klc3tools.asm import assemble\n",
    "\n",
    "sym, image = assemble(code)\n",
    "vm.load_binary(image)\n",
    "vm.reset()\n",
    "vm.continue_()\n"
   ]
  },
  {
   "cell_type": "code",
   "execution_count": null,
   "metadata": {},
   "outputs": [],
   "source": []
  }
 ],
 "metadata": {
  "kernelspec": {
   "display_name": ".venv",
   "language": "python",
   "name": "python3"
  },
  "language_info": {
   "codemirror_mode": {
    "name": "ipython",
    "version": 3
   },
   "file_extension": ".py",
   "mimetype": "text/x-python",
   "name": "python",
   "nbconvert_exporter": "python",
   "pygments_lexer": "ipython3",
   "version": "3.11.6"
  }
 },
 "nbformat": 4,
 "nbformat_minor": 2
}
