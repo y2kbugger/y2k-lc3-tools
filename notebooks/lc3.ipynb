{
 "cells": [
  {
   "cell_type": "code",
   "execution_count": null,
   "metadata": {},
   "outputs": [],
   "source": [
    "from y2klc3tools.vm import VM"
   ]
  },
  {
   "cell_type": "code",
   "execution_count": null,
   "metadata": {},
   "outputs": [],
   "source": [
    "vm = VM()\n",
    "vm.load_binary_from_file(\"../obj/vm/hello2.obj\")\n",
    "vm.reset()\n",
    "vm.continue_()"
   ]
  },
  {
   "cell_type": "code",
   "execution_count": null,
   "metadata": {},
   "outputs": [],
   "source": [
    "vm.reset()"
   ]
  },
  {
   "cell_type": "code",
   "execution_count": null,
   "metadata": {},
   "outputs": [],
   "source": [
    "vm.step()"
   ]
  },
  {
   "cell_type": "code",
   "execution_count": null,
   "metadata": {},
   "outputs": [],
   "source": [
    "from y2klc3tools.asm import assemble\n",
    "\n",
    "code = \"\"\"\n",
    ".ORIG x3000\n",
    "LEA R0, HELLO_WORLD\n",
    "PUTS\n",
    "HALT\n",
    "HELLO_WORLD .stringz \"Hello, World\"\n",
    ".END\n",
    "\"\"\"\n",
    "\n",
    "\n",
    "sym, image = assemble(code)\n",
    "vm.load_binary(image)\n",
    "vm.reset()\n",
    "vm.continue_()"
   ]
  },
  {
   "cell_type": "code",
   "execution_count": null,
   "metadata": {},
   "outputs": [],
   "source": [
    "hex = image.hex()\n",
    "hex"
   ]
  }
 ],
 "metadata": {
  "kernelspec": {
   "display_name": ".venv",
   "language": "python",
   "name": "python3"
  },
  "language_info": {
   "codemirror_mode": {
    "name": "ipython",
    "version": 3
   },
   "file_extension": ".py",
   "mimetype": "text/x-python",
   "name": "python",
   "nbconvert_exporter": "python",
   "pygments_lexer": "ipython3",
   "version": "3.11.6"
  }
 },
 "nbformat": 4,
 "nbformat_minor": 2
}
