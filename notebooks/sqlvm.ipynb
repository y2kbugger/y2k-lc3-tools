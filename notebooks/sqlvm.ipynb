{
 "cells": [
  {
   "cell_type": "code",
   "execution_count": null,
   "metadata": {},
   "outputs": [],
   "source": [
    "%load_ext autoreload\n",
    "%autoreload 2"
   ]
  },
  {
   "cell_type": "code",
   "execution_count": null,
   "metadata": {},
   "outputs": [],
   "source": [
    "from IPython.core.magic import register_cell_magic\n",
    "\n",
    "from y2klc3tools.sqlvm import SqlVM\n",
    "from y2klc3tools import UINT16_MAX, PC_START"
   ]
  },
  {
   "cell_type": "code",
   "execution_count": null,
   "metadata": {},
   "outputs": [],
   "source": [
    "vm = SqlVM()\n",
    "\n",
    "\n",
    "@register_cell_magic\n",
    "def sql(_, cell):\n",
    "    vm.run_and_trace(cell)"
   ]
  },
  {
   "cell_type": "code",
   "execution_count": null,
   "metadata": {},
   "outputs": [],
   "source": [
    "vm.load_binary_from_file(\"../obj/vm/hello2.obj\")\n",
    "vm.reset()\n",
    "# vm.continue_()"
   ]
  },
  {
   "cell_type": "code",
   "execution_count": null,
   "metadata": {},
   "outputs": [],
   "source": [
    "from y2klc3tools.asm import assemble\n",
    "\n",
    "code = \"\"\"\n",
    ".ORIG x3000\n",
    "LEA R0, HELLO_WORLD\n",
    "PUTS\n",
    "HALT\n",
    "HELLO_WORLD .stringz \"Hello, World\"\n",
    ".END\n",
    "\"\"\"\n",
    "\n",
    "sym, image = assemble(code)\n",
    "print(image)\n",
    "vm.load_binary_from_bytes(image)\n",
    "vm.reset()"
   ]
  },
  {
   "cell_type": "code",
   "execution_count": null,
   "metadata": {
    "vscode": {
     "languageId": "sql"
    }
   },
   "outputs": [],
   "source": [
    "vm.step(trace=True)\n",
    "vm.run_and_trace(\"\"\"\n",
    "    SELECT * FROM signal;\n",
    "    SELECT * FROM register;\n",
    "    SELECT * FROM memory\n",
    "        WHERE address >= 0x3000 and address < 0x3040;\n",
    "    \"\"\")"
   ]
  },
  {
   "cell_type": "code",
   "execution_count": null,
   "metadata": {
    "vscode": {
     "languageId": "sql"
    }
   },
   "outputs": [],
   "source": [
    "%%sql\n",
    "SELECT * FROM signal;\n",
    "SELECT * FROM register;\n",
    "SELECT * FROM memory\n",
    "    WHERE address >= 0x3000 and address < 0x3040;"
   ]
  },
  {
   "cell_type": "code",
   "execution_count": null,
   "metadata": {},
   "outputs": [],
   "source": [
    "origin = '0000'\n",
    "image_bytes = origin + '16BF' * (UINT16_MAX)\n",
    "\n",
    "vm.reset()\n",
    "vm.load_binary_from_hex(image_bytes)\n",
    "\n",
    "vm.memory[PC_START + 0x10] = 0xF025  # HLT"
   ]
  },
  {
   "cell_type": "code",
   "execution_count": null,
   "metadata": {},
   "outputs": [],
   "source": [
    "# read a source code file using readlines\n",
    "\n",
    "filename = \"../README.md\"\n",
    "\n",
    "with open(filename) as f:\n",
    "    lines = f.readlines()\n",
    "\n",
    "print(lines)"
   ]
  },
  {
   "cell_type": "code",
   "execution_count": null,
   "metadata": {},
   "outputs": [],
   "source": [
    "vm.step(trace=True)\n",
    "vm.run_and_trace(\n",
    "    \"\"\"\n",
    "    SELECT * FROM signal;\n",
    "    SELECT * FROM register;\n",
    "    SELECT * FROM memory\n",
    "        WHERE address >= 0x3000 and address < 0x3040;\n",
    "    \"\"\"\n",
    ")"
   ]
  },
  {
   "cell_type": "code",
   "execution_count": null,
   "metadata": {
    "vscode": {
     "languageId": "sql"
    }
   },
   "outputs": [],
   "source": []
  }
 ],
 "metadata": {
  "kernelspec": {
   "display_name": ".venv",
   "language": "python",
   "name": "python3"
  },
  "language_info": {
   "codemirror_mode": {
    "name": "ipython",
    "version": 3
   },
   "file_extension": ".py",
   "mimetype": "text/x-python",
   "name": "python",
   "nbconvert_exporter": "python",
   "pygments_lexer": "ipython3",
   "version": "3.12.3"
  }
 },
 "nbformat": 4,
 "nbformat_minor": 2
}
