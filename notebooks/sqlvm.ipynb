{
 "cells": [
  {
   "cell_type": "code",
   "execution_count": null,
   "metadata": {},
   "outputs": [],
   "source": [
    "%load_ext autoreload\n",
    "%autoreload 2"
   ]
  },
  {
   "cell_type": "code",
   "execution_count": null,
   "metadata": {},
   "outputs": [],
   "source": [
    "from IPython.core.magic import register_cell_magic\n",
    "\n",
    "from y2klc3tools.sqlvm import SqlVM"
   ]
  },
  {
   "cell_type": "code",
   "execution_count": null,
   "metadata": {},
   "outputs": [],
   "source": [
    "vm = SqlVM()\n",
    "\n",
    "\n",
    "@register_cell_magic\n",
    "def sql(_, cell):\n",
    "    vm.run_and_trace(cell)"
   ]
  },
  {
   "cell_type": "code",
   "execution_count": null,
   "metadata": {},
   "outputs": [],
   "source": [
    "vm.load_binary_from_file(\"../obj/vm/hello2.obj\")\n",
    "vm.reset()\n",
    "vm.continue_()"
   ]
  },
  {
   "cell_type": "code",
   "execution_count": null,
   "metadata": {
    "vscode": {
     "languageId": "sql"
    }
   },
   "outputs": [],
   "source": [
    "%%sql\n",
    "-- drive the clock signal\n",
    "UPDATE signal SET clk = 1;\n",
    "UPDATE signal SET clk = 0;\n",
    "UPDATE signal SET clk = 1;\n",
    "UPDATE signal SET clk = 0;\n",
    "UPDATE signal SET clk = 0;\n",
    "UPDATE signal SET clk = 0;\n",
    "UPDATE signal SET clk = 1;\n",
    "UPDATE signal SET clk = 1;\n",
    "UPDATE signal SET clk = 0;\n",
    "UPDATE signal SET clk = 1;"
   ]
  },
  {
   "cell_type": "code",
   "execution_count": null,
   "metadata": {
    "vscode": {
     "languageId": "sql"
    }
   },
   "outputs": [],
   "source": []
  }
 ],
 "metadata": {
  "kernelspec": {
   "display_name": ".venv",
   "language": "python",
   "name": "python3"
  },
  "language_info": {
   "codemirror_mode": {
    "name": "ipython",
    "version": 3
   },
   "file_extension": ".py",
   "mimetype": "text/x-python",
   "name": "python",
   "nbconvert_exporter": "python",
   "pygments_lexer": "ipython3",
   "version": "3.12.3"
  }
 },
 "nbformat": 4,
 "nbformat_minor": 2
}
